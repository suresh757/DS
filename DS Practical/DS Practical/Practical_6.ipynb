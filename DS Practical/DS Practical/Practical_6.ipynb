{
 "cells": [
  {
   "cell_type": "code",
   "execution_count": 1,
   "id": "5861aec7-2950-4bd5-9fec-4521dee7c612",
   "metadata": {},
   "outputs": [],
   "source": [
    "class BullyAlgorithm:\n",
    "    def __init__(self, processes):\n",
    "        self.processes = sorted(processes)  # Sorted for simplicity\n",
    "        self.coordinator = max(self.processes)\n",
    "\n",
    "    def start_election(self, initiator):\n",
    "        print(f\"\\nProcess {initiator} initiates an election.\")\n",
    "        higher = [p for p in self.processes if p > initiator]\n",
    "        if not higher:\n",
    "            self.coordinator = initiator\n",
    "            print(f\"Process {initiator} becomes the coordinator.\")\n",
    "        else:\n",
    "            print(f\"Processes higher than {initiator}: {higher}\")\n",
    "            for p in higher:\n",
    "                print(f\"Process {initiator} sends election message to {p}\")\n",
    "            # Simulating response from higher processes\n",
    "            responder = max(higher)\n",
    "            print(f\"Process {responder} responds. It will start its own election.\")\n",
    "            self.start_election(responder)\n",
    "\n",
    "    def get_coordinator(self):\n",
    "        return self.coordinator\n"
   ]
  },
  {
   "cell_type": "code",
   "execution_count": 2,
   "id": "ed3f5d87-0c55-459d-8016-4bebf79fa13c",
   "metadata": {},
   "outputs": [
    {
     "name": "stdout",
     "output_type": "stream",
     "text": [
      "\n",
      "Process 2 initiates an election.\n",
      "Processes higher than 2: [3, 4, 5]\n",
      "Process 2 sends election message to 3\n",
      "Process 2 sends election message to 4\n",
      "Process 2 sends election message to 5\n",
      "Process 5 responds. It will start its own election.\n",
      "\n",
      "Process 5 initiates an election.\n",
      "Process 5 becomes the coordinator.\n",
      "Final Coordinator: 5\n"
     ]
    }
   ],
   "source": [
    "bully = BullyAlgorithm([1, 2, 3, 4, 5])\n",
    "bully.start_election(2)\n",
    "print(\"Final Coordinator:\", bully.get_coordinator())\n"
   ]
  },
  {
   "cell_type": "code",
   "execution_count": 3,
   "id": "1ccd70b0-cb0e-4a1d-9a57-ae8d760015f4",
   "metadata": {},
   "outputs": [],
   "source": [
    "class RingAlgorithm:\n",
    "    def __init__(self, processes):\n",
    "        self.processes = processes\n",
    "        self.n = len(processes)\n",
    "        self.coordinator = max(processes)\n",
    "\n",
    "    def start_election(self, initiator_index):\n",
    "        print(f\"\\nProcess {self.processes[initiator_index]} initiates an election.\")\n",
    "        token = [self.processes[initiator_index]]\n",
    "        index = (initiator_index + 1) % self.n\n",
    "\n",
    "        while self.processes[index] != self.processes[initiator_index]:\n",
    "            print(f\"Token passed to {self.processes[index]}\")\n",
    "            token.append(self.processes[index])\n",
    "            index = (index + 1) % self.n\n",
    "\n",
    "        elected = max(token)\n",
    "        self.coordinator = elected\n",
    "        print(f\"Process {elected} becomes the new coordinator.\")\n",
    "\n",
    "    def get_coordinator(self):\n",
    "        return self.coordinator\n"
   ]
  },
  {
   "cell_type": "code",
   "execution_count": 4,
   "id": "fefda428-280c-4cb8-ad9b-4df6850d47f9",
   "metadata": {},
   "outputs": [
    {
     "name": "stdout",
     "output_type": "stream",
     "text": [
      "\n",
      "Process 2 initiates an election.\n",
      "Token passed to 3\n",
      "Token passed to 4\n",
      "Token passed to 5\n",
      "Token passed to 1\n",
      "Process 5 becomes the new coordinator.\n",
      "Final Coordinator: 5\n"
     ]
    }
   ],
   "source": [
    "ring = RingAlgorithm([1, 2, 3, 4, 5])\n",
    "ring.start_election(1)\n",
    "print(\"Final Coordinator:\", ring.get_coordinator())\n"
   ]
  },
  {
   "cell_type": "code",
   "execution_count": null,
   "id": "0ef977f8-1668-4e53-a43c-dc08aa0bd39a",
   "metadata": {},
   "outputs": [],
   "source": []
  }
 ],
 "metadata": {
  "kernelspec": {
   "display_name": "Python 3 (ipykernel)",
   "language": "python",
   "name": "python3"
  },
  "language_info": {
   "codemirror_mode": {
    "name": "ipython",
    "version": 3
   },
   "file_extension": ".py",
   "mimetype": "text/x-python",
   "name": "python",
   "nbconvert_exporter": "python",
   "pygments_lexer": "ipython3",
   "version": "3.11.7"
  }
 },
 "nbformat": 4,
 "nbformat_minor": 5
}
