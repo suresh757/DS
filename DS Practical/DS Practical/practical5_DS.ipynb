{
 "cells": [
  {
   "cell_type": "code",
   "execution_count": null,
   "id": "b9f73566-d7a8-4989-bc2b-1382f8504d35",
   "metadata": {},
   "outputs": [
    {
     "name": "stdin",
     "output_type": "stream",
     "text": [
      "Enter the number of nodes you want in the ring:  5\n"
     ]
    },
    {
     "name": "stdout",
     "output_type": "stream",
     "text": [
      "Ring Formed is as below: \n",
      "0 1 2 3 4 0 (loop back to Node 0)\n",
      "Note: Initially, Token is at Node 0\n"
     ]
    },
    {
     "name": "stdin",
     "output_type": "stream",
     "text": [
      "\n",
      "Enter Sender:  1\n",
      "\n",
      "Enter Receiver:  3\n",
      "\n",
      "Enter Data to Send:  42\n"
     ]
    },
    {
     "name": "stdout",
     "output_type": "stream",
     "text": [
      "\n",
      "Sender is 1 and Sending Data is 42\n",
      "\n",
      "Token Passing: [Previous Node -> Next Node]\n",
      " 0 -> 1\n",
      "Note: Current Token is at Node 1\n",
      "\n",
      "Data Passing: [Previous Node -> Next Node]\n",
      " 1 -> 2 -> 3\n",
      "\n",
      "Receiver: 3, Received the data: 42\n"
     ]
    },
    {
     "name": "stdin",
     "output_type": "stream",
     "text": [
      "\n",
      "Do you want to send data again? If yes Enter 1, If no Enter 0:  1\n",
      "\n",
      "Enter Sender:  3\n",
      "\n",
      "Enter Receiver:  0\n",
      "\n",
      "Enter Data to Send:  99\n"
     ]
    },
    {
     "name": "stdout",
     "output_type": "stream",
     "text": [
      "\n",
      "Sender is 3 and Sending Data is 99\n",
      "\n",
      "Token Passing: [Previous Node -> Next Node]\n",
      " 1 -> 2 -> 3\n",
      "Note: Current Token is at Node 3\n",
      "\n",
      "Data Passing: [Previous Node -> Next Node]\n",
      " 0\n",
      "\n",
      "Receiver: 0, Received the data: 99\n"
     ]
    }
   ],
   "source": [
    "def main():\n",
    "    # Getting the number of nodes in the ring\n",
    "    n = int(input(\"Enter the number of nodes you want in the ring: \"))\n",
    "\n",
    "    # Displaying the ring formation\n",
    "    print(\"Ring Formed is as below: \")\n",
    "    for i in range(n):\n",
    "        print(f\"{i} \", end=\"\")\n",
    "    print(\"0 (loop back to Node 0)\")\n",
    "    print(\"Note: Initially, Token is at Node 0\")\n",
    "\n",
    "    token = 0  # Initial token position is at node 0\n",
    "    choice = 0  # Variable to control sending data again\n",
    "\n",
    "    while True:\n",
    "        # Getting sender, receiver, and data\n",
    "        sender = -1\n",
    "        while sender < 0 or sender >= n:\n",
    "            sender = int(input(\"\\nEnter Sender: \"))\n",
    "            if sender < 0 or sender >= n:\n",
    "                print(f\"Enter a valid sender between 0 & {n - 1}\")\n",
    "\n",
    "        receiver = -1\n",
    "        while receiver < 0 or receiver >= n:\n",
    "            receiver = int(input(\"\\nEnter Receiver: \"))\n",
    "            if receiver < 0 or receiver >= n:\n",
    "                print(f\"Enter a valid receiver between 0 & {n - 1}\")\n",
    "\n",
    "        data = int(input(\"\\nEnter Data to Send: \"))\n",
    "        \n",
    "        print(f\"\\nSender is {sender} and Sending Data is {data}\")\n",
    "\n",
    "        # Token Passing\n",
    "        print(\"\\nToken Passing: [Previous Node -> Next Node]\")\n",
    "        for i in range(token, sender):\n",
    "            print(f\" {i} ->\", end=\"\")\n",
    "        print(f\" {sender}\")\n",
    "        print(f\"Note: Current Token is at Node {sender}\")\n",
    "\n",
    "        # Data Passing\n",
    "        print(\"\\nData Passing: [Previous Node -> Next Node]\")\n",
    "        for i in range(sender, receiver):\n",
    "            print(f\" {i} ->\", end=\"\")\n",
    "        print(f\" {receiver}\")\n",
    "        print(f\"\\nReceiver: {receiver}, Received the data: {data}\")\n",
    "\n",
    "        # Update the token to the sender's position\n",
    "        token = sender\n",
    "\n",
    "        # Asking user if they want to send data again\n",
    "        choice = int(input(\"\\nDo you want to send data again? If yes Enter 1, If no Enter 0: \"))\n",
    "        if choice == 0:\n",
    "            break\n",
    "\n",
    "if __name__ == \"__main__\":\n",
    "    main()\n"
   ]
  },
  {
   "cell_type": "code",
   "execution_count": 5,
   "id": "ceb7b58b-e6ae-4634-be91-9686a9b9d649",
   "metadata": {},
   "outputs": [],
   "source": [
    "\n",
    "\n"
   ]
  },
  {
   "cell_type": "code",
   "execution_count": null,
   "id": "722b0277-3e37-45d1-ba33-8d953405a571",
   "metadata": {},
   "outputs": [],
   "source": []
  }
 ],
 "metadata": {
  "kernelspec": {
   "display_name": "Python 3 (ipykernel)",
   "language": "python",
   "name": "python3"
  },
  "language_info": {
   "codemirror_mode": {
    "name": "ipython",
    "version": 3
   },
   "file_extension": ".py",
   "mimetype": "text/x-python",
   "name": "python",
   "nbconvert_exporter": "python",
   "pygments_lexer": "ipython3",
   "version": "3.11.7"
  }
 },
 "nbformat": 4,
 "nbformat_minor": 5
}
